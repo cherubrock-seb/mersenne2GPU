{
  "nbformat": 4,
  "nbformat_minor": 0,
  "metadata": {
    "colab": {
      "provenance": []
    },
    "kernelspec": {
      "name": "python3",
      "display_name": "Python 3"
    },
    "language_info": {
      "name": "python"
    }
  },
  "cells": [
    {
      "cell_type": "code",
      "execution_count": 12,
      "metadata": {
        "colab": {
          "base_uri": "https://localhost:8080/"
        },
        "id": "JGUAAKzbHwhh",
        "outputId": "76f5f2a4-93ea-44fd-ac85-9aad7174bf56"
      },
      "outputs": [
        {
          "output_type": "stream",
          "name": "stdout",
          "text": [
            "s_11 mod M_13 = 0\n",
            "2^13-1 = 8191 is prime\n",
            "Gerbicz run failed\n",
            "s_11 mod M_13 = 0\n",
            "2^13-1 = 8191 is prime\n"
          ]
        }
      ],
      "source": [
        "import numpy as np\n",
        "\n",
        "def matmul_mod(a, b, m):\n",
        "    return np.remainder(np.dot(a, b), m)\n",
        "\n",
        "def pow_mat_mod(A, e, m, err_sq=None):\n",
        "    R = np.identity(2, dtype=object)\n",
        "    B = A.copy()\n",
        "    mul_id = sq_id = 0\n",
        "    while e:\n",
        "        if e & 1:\n",
        "            R = matmul_mod(R, B, m)\n",
        "            mul_id += 1\n",
        "        if err_sq is not None and sq_id == err_sq:\n",
        "            B[0,0] = (B[0,0] + 123456789) % m\n",
        "        B = matmul_mod(B, B, m)\n",
        "        sq_id += 1\n",
        "        e >>= 1\n",
        "    return R\n",
        "\n",
        "def gerbicz_check(A, power, m, r):\n",
        "    q = power // r - 1\n",
        "    X  = pow_mat_mod(A, r,         m)\n",
        "    Y2 = pow_mat_mod(X, q + 1,     m)\n",
        "    Y1 = pow_mat_mod(A, power,     m)\n",
        "    ok = np.all(np.remainder(Y1 - Y2, m) == 0)\n",
        "    return ok, Y1\n",
        "\n",
        "def lucas_lehmer_mod(p, err_sq=None):\n",
        "    Mp = (1 << p) - 1\n",
        "    A  = np.array([[4, -1],[1, 0]], dtype=object)\n",
        "    init = np.array([[4],[2]], dtype=object)\n",
        "    power = 1 << (p - 2)\n",
        "    r = 1 << ((p - 2)//2)\n",
        "\n",
        "    ok, Apow_ref = gerbicz_check(A, power, Mp, r)\n",
        "    if not ok:\n",
        "        raise ValueError(\"Gerbicz reference failed\")\n",
        "\n",
        "    Apow_run = pow_mat_mod(A, power, Mp, err_sq=err_sq)\n",
        "    if not np.all(np.remainder(Apow_run - Apow_ref, Mp) == 0):\n",
        "        raise ValueError(\"Gerbicz run failed\")\n",
        "\n",
        "    v = matmul_mod(Apow_run, init, Mp)\n",
        "    s = int(v[1,0])\n",
        "    print(f\"s_{p-2} mod M_{p} = {s}\")\n",
        "    print(f\"2^{p}-1 = {Mp} is {'prime' if s==0 else 'composite'}\")\n",
        "\n",
        "lucas_lehmer_mod(13)\n",
        "\n",
        "try:\n",
        "    lucas_lehmer_mod(13, err_sq=3)\n",
        "except ValueError as e:\n",
        "    print(e)\n",
        "\n",
        "\n",
        "try:\n",
        "    lucas_lehmer_mod(13, err_sq=13)\n",
        "except ValueError as e:\n",
        "    print(e)"
      ]
    },
    {
      "cell_type": "code",
      "source": [
        "def run_case(p, err_sq, should_raise):\n",
        "    try:\n",
        "        lucas_lehmer_mod(p, err_sq=err_sq)\n",
        "    except ValueError:\n",
        "        if not should_raise:\n",
        "            print(\"FAIL\", p, err_sq, \"unexpected error\")\n",
        "        else:\n",
        "            print(\"OK\", p, err_sq, \"error detected\")\n",
        "        return\n",
        "    if should_raise:\n",
        "        print(\"FAIL\", p, err_sq, \"error NOT detected\")\n",
        "    else:\n",
        "        print(\"OK\", p, err_sq, \"no error\")\n",
        "\n",
        "cases = [\n",
        "    (13, None,  False),\n",
        "    (13, 0,     True),\n",
        "    (13, 1,     True),\n",
        "    (13, 2,     True),\n",
        "    (13, 3,     True),\n",
        "    (13, 4,     True),\n",
        "    (13, 5,     True),\n",
        "    (13, 6,     True),\n",
        "    (13, 7,     True),\n",
        "    (13, 8,     True),\n",
        "    (13, 9,     True),\n",
        "    (13, 10,    True),\n",
        "    (11, None,  False),\n",
        "    (11, 0,     True),\n",
        "    (11, 1,     True),\n",
        "    (11, 2,     True),\n",
        "    (11, 3,     True),\n",
        "    (11, 4,     True),\n",
        "    (11, 5,     True),\n",
        "    (11, 6,     True),\n",
        "    (17, None,  False),\n",
        "    (17, 0,     True),\n",
        "    (17, 1,     True),\n",
        "    (17, 2,     True),\n",
        "    (17, 3,     True),\n",
        "    (17, 4,     True),\n",
        "    (17, 5,     True),\n",
        "    (17, 6,     True),\n",
        "    (17, 7,     True),\n",
        "    (17, 8,     True),\n",
        "    (17, 9,     True),\n",
        "    (17, 10,    True),\n",
        "    (17, 11,    True),\n",
        "    (17, 12,    True),\n",
        "]\n",
        "\n",
        "for p, err_sq, should_raise in cases:\n",
        "    run_case(p, err_sq, should_raise)\n"
      ],
      "metadata": {
        "id": "L-10Lne3IH2y",
        "colab": {
          "base_uri": "https://localhost:8080/"
        },
        "outputId": "d1ba6fca-230b-4021-ab11-8045a5c7bb25"
      },
      "execution_count": 13,
      "outputs": [
        {
          "output_type": "stream",
          "name": "stdout",
          "text": [
            "s_11 mod M_13 = 0\n",
            "2^13-1 = 8191 is prime\n",
            "OK 13 None no error\n",
            "OK 13 0 error detected\n",
            "OK 13 1 error detected\n",
            "OK 13 2 error detected\n",
            "OK 13 3 error detected\n",
            "OK 13 4 error detected\n",
            "OK 13 5 error detected\n",
            "OK 13 6 error detected\n",
            "OK 13 7 error detected\n",
            "OK 13 8 error detected\n",
            "OK 13 9 error detected\n",
            "OK 13 10 error detected\n",
            "s_9 mod M_11 = 1736\n",
            "2^11-1 = 2047 is composite\n",
            "OK 11 None no error\n",
            "OK 11 0 error detected\n",
            "OK 11 1 error detected\n",
            "OK 11 2 error detected\n",
            "OK 11 3 error detected\n",
            "OK 11 4 error detected\n",
            "OK 11 5 error detected\n",
            "OK 11 6 error detected\n",
            "s_15 mod M_17 = 0\n",
            "2^17-1 = 131071 is prime\n",
            "OK 17 None no error\n",
            "OK 17 0 error detected\n",
            "OK 17 1 error detected\n",
            "OK 17 2 error detected\n",
            "OK 17 3 error detected\n",
            "OK 17 4 error detected\n",
            "OK 17 5 error detected\n",
            "OK 17 6 error detected\n",
            "OK 17 7 error detected\n",
            "OK 17 8 error detected\n",
            "OK 17 9 error detected\n",
            "OK 17 10 error detected\n",
            "OK 17 11 error detected\n",
            "OK 17 12 error detected\n"
          ]
        }
      ]
    },
    {
      "cell_type": "code",
      "source": [],
      "metadata": {
        "id": "TVmATlBXLAOG"
      },
      "execution_count": null,
      "outputs": []
    }
  ]
}